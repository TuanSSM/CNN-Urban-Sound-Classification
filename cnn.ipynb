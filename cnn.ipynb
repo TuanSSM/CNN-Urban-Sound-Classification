{
  "nbformat": 4,
  "nbformat_minor": 0,
  "metadata": {
    "colab": {
      "provenance": [],
      "collapsed_sections": []
    },
    "kernelspec": {
      "name": "python3",
      "display_name": "Python 3"
    },
    "language_info": {
      "name": "python"
    }
  },
  "cells": [
    {
      "cell_type": "code",
      "source": [
        "from google.colab import drive\n",
        "drive.mount('/content/drive')"
      ],
      "metadata": {
        "colab": {
          "base_uri": "https://localhost:8080/"
        },
        "id": "FM2u5xon6m9T",
        "outputId": "4a97300c-68c6-44c7-b64a-68033b7cedbc"
      },
      "execution_count": 1,
      "outputs": [
        {
          "output_type": "stream",
          "name": "stdout",
          "text": [
            "Drive already mounted at /content/drive; to attempt to forcibly remount, call drive.mount(\"/content/drive\", force_remount=True).\n"
          ]
        }
      ]
    },
    {
      "cell_type": "code",
      "source": [
        "from tensorflow.keras.preprocessing.image import ImageDataGenerator\n",
        "\n",
        "def datagen(spec_type):\n",
        "  base_dir = '/content/drive/MyDrive/Colab Notebooks/spectograms/preprocessed/' + spec_type\n",
        "\n",
        "  train_dir = base_dir + 'train/'\n",
        "  val_dir = base_dir + 'val/'\n",
        "  test_dir = base_dir + 'test/'\n",
        "\n",
        "  train_datagen = ImageDataGenerator()\n",
        "  val_datagen = ImageDataGenerator()\n",
        "  test_datagen = ImageDataGenerator()\n",
        "  train_datagen = train_datagen.flow_from_directory(train_dir, target_size = (100,100), batch_size=128, color_mode='grayscale')\n",
        "  val_datagen = val_datagen.flow_from_directory(val_dir, target_size = (100,100), batch_size=128, color_mode='grayscale')\n",
        "  test_datagen = test_datagen.flow_from_directory(test_dir, target_size = (100,100), batch_size=128, color_mode='grayscale')\n",
        "\n",
        "  return train_datagen, val_datagen, test_datagen"
      ],
      "metadata": {
        "id": "e5YED-O8OmHV"
      },
      "execution_count": 3,
      "outputs": []
    },
    {
      "cell_type": "code",
      "source": [
        "train, val, test = datagen('noiseless/')"
      ],
      "metadata": {
        "colab": {
          "base_uri": "https://localhost:8080/"
        },
        "id": "J7D4GnQsSu2D",
        "outputId": "191f3cb9-8f0c-4957-a832-acc1babb8993"
      },
      "execution_count": 4,
      "outputs": [
        {
          "output_type": "stream",
          "name": "stdout",
          "text": [
            "Found 5772 images belonging to 10 classes.\n",
            "Found 1480 images belonging to 10 classes.\n",
            "Found 1480 images belonging to 10 classes.\n"
          ]
        }
      ]
    },
    {
      "cell_type": "code",
      "source": [
        "import tensorflow as tf\n",
        "from keras.models import Sequential\n",
        "from keras.layers.convolutional import Conv2D, MaxPooling2D\n",
        "from keras.layers.core import Dense, Dropout, Activation, Flatten\n",
        "from tensorflow.keras import layers, activations\n",
        "import numpy as np\n",
        "import sys\n",
        "np.set_printoptions(threshold=sys.maxsize) #Numpy array kisaltmasini engeller"
      ],
      "metadata": {
        "id": "9C782MwU7GMm"
      },
      "execution_count": 2,
      "outputs": []
    },
    {
      "cell_type": "code",
      "source": [
        "def add_layers(mdl):  \n",
        "  mdl.add(layers.Conv2D(32, activation = 'relu', kernel_size = (3,3),strides=(1,1), padding='same', input_shape = (100,100,1)))\n",
        "  mdl.add(layers.MaxPooling2D(2,2))\n",
        "  \n",
        "  mdl.add(layers.Conv2D(64, activation = 'elu', kernel_size = (3,3),strides=(1,1), padding='same'))\n",
        "  mdl.add(layers.MaxPooling2D(2,2))\n",
        "  \n",
        "  mdl.add(layers.Conv2D(64, activation = 'elu', kernel_size = (3,3),strides=(1,1), padding='same'))\n",
        "  mdl.add(layers.MaxPooling2D(2,2))\n",
        "  \n",
        "  mdl.add(layers.Conv2D(64, activation = 'elu', kernel_size = (3,3),strides=(1,1), padding='same'))\n",
        "  mdl.add(layers.Flatten())\n",
        "\n",
        "  mdl.add(layers.Dense(64, activation=\"relu\"))\n",
        "  mdl.add(tf.keras.layers.Dropout(0.5))\n",
        "  mdl.add(layers.Dense(64, activation=\"relu\"))\n",
        "  mdl.add(tf.keras.layers.Dropout(0.5))    \n",
        "  mdl.add(layers.Dense(64, activation=\"relu\"))\n",
        "  mdl.add(tf.keras.layers.Dropout(0.5))          \n",
        "  mdl.add(layers.Dense(64, activation=\"relu\"))\n",
        "  mdl.add(tf.keras.layers.Dropout(0.5))          \n",
        "  mdl.add(layers.Dense(10, activation=\"softmax\"))\n",
        "\n",
        "  mdl.summary()"
      ],
      "metadata": {
        "id": "UY4hapPK73eL"
      },
      "execution_count": 5,
      "outputs": []
    },
    {
      "cell_type": "code",
      "source": [
        "model = Sequential()\n",
        "add_layers(model)"
      ],
      "metadata": {
        "colab": {
          "base_uri": "https://localhost:8080/"
        },
        "id": "v09uLsDcWlF4",
        "outputId": "529c9f5a-10d6-4789-8ebd-b73ac232778c"
      },
      "execution_count": 6,
      "outputs": [
        {
          "output_type": "stream",
          "name": "stdout",
          "text": [
            "Model: \"sequential\"\n",
            "_________________________________________________________________\n",
            " Layer (type)                Output Shape              Param #   \n",
            "=================================================================\n",
            " conv2d (Conv2D)             (None, 100, 100, 32)      320       \n",
            "                                                                 \n",
            " max_pooling2d (MaxPooling2D  (None, 50, 50, 32)       0         \n",
            " )                                                               \n",
            "                                                                 \n",
            " conv2d_1 (Conv2D)           (None, 50, 50, 64)        18496     \n",
            "                                                                 \n",
            " max_pooling2d_1 (MaxPooling  (None, 25, 25, 64)       0         \n",
            " 2D)                                                             \n",
            "                                                                 \n",
            " conv2d_2 (Conv2D)           (None, 25, 25, 64)        36928     \n",
            "                                                                 \n",
            " max_pooling2d_2 (MaxPooling  (None, 12, 12, 64)       0         \n",
            " 2D)                                                             \n",
            "                                                                 \n",
            " conv2d_3 (Conv2D)           (None, 12, 12, 64)        36928     \n",
            "                                                                 \n",
            " flatten (Flatten)           (None, 9216)              0         \n",
            "                                                                 \n",
            " dense (Dense)               (None, 64)                589888    \n",
            "                                                                 \n",
            " dropout (Dropout)           (None, 64)                0         \n",
            "                                                                 \n",
            " dense_1 (Dense)             (None, 64)                4160      \n",
            "                                                                 \n",
            " dropout_1 (Dropout)         (None, 64)                0         \n",
            "                                                                 \n",
            " dense_2 (Dense)             (None, 64)                4160      \n",
            "                                                                 \n",
            " dropout_2 (Dropout)         (None, 64)                0         \n",
            "                                                                 \n",
            " dense_3 (Dense)             (None, 64)                4160      \n",
            "                                                                 \n",
            " dropout_3 (Dropout)         (None, 64)                0         \n",
            "                                                                 \n",
            " dense_4 (Dense)             (None, 10)                650       \n",
            "                                                                 \n",
            "=================================================================\n",
            "Total params: 695,690\n",
            "Trainable params: 695,690\n",
            "Non-trainable params: 0\n",
            "_________________________________________________________________\n"
          ]
        }
      ]
    },
    {
      "cell_type": "code",
      "source": [
        "model.compile(optimizer = 'adam',\n",
        "              loss='categorical_crossentropy',\n",
        "              metrics = [\"accuracy\"], run_eagerly=True)\n",
        "\n",
        "results = model.fit(train, epochs= 5, verbose = 1, validation_data = val)\n"
      ],
      "metadata": {
        "colab": {
          "base_uri": "https://localhost:8080/"
        },
        "id": "gHOflXEBW2wY",
        "outputId": "62af2e4a-3701-433d-bc4c-522868038259"
      },
      "execution_count": 7,
      "outputs": [
        {
          "output_type": "stream",
          "name": "stdout",
          "text": [
            "Epoch 1/5\n",
            "46/46 [==============================] - 81s 2s/step - loss: 2.2886 - accuracy: 0.1097 - val_loss: 2.2724 - val_accuracy: 0.1304\n",
            "Epoch 2/5\n",
            "46/46 [==============================] - 84s 2s/step - loss: 2.2632 - accuracy: 0.1178 - val_loss: 2.2475 - val_accuracy: 0.1257\n",
            "Epoch 3/5\n",
            "46/46 [==============================] - 81s 2s/step - loss: 2.2449 - accuracy: 0.1289 - val_loss: 2.2161 - val_accuracy: 0.1203\n",
            "Epoch 4/5\n",
            "46/46 [==============================] - 83s 2s/step - loss: 2.2346 - accuracy: 0.1369 - val_loss: 2.2086 - val_accuracy: 0.1547\n",
            "Epoch 5/5\n",
            "46/46 [==============================] - 85s 2s/step - loss: 2.2242 - accuracy: 0.1272 - val_loss: 2.2192 - val_accuracy: 0.1466\n"
          ]
        }
      ]
    },
    {
      "cell_type": "code",
      "source": [
        "model.evaluate(test)"
      ],
      "metadata": {
        "colab": {
          "base_uri": "https://localhost:8080/"
        },
        "id": "xd4-OQvThBDO",
        "outputId": "b294a679-4343-49ef-d804-259fa5897343"
      },
      "execution_count": 12,
      "outputs": [
        {
          "output_type": "stream",
          "name": "stdout",
          "text": [
            "12/12 [==============================] - 6s 516ms/step - loss: 2.2249 - accuracy: 0.1378\n"
          ]
        },
        {
          "output_type": "execute_result",
          "data": {
            "text/plain": [
              "[2.224907398223877, 0.13783784210681915]"
            ]
          },
          "metadata": {},
          "execution_count": 12
        }
      ]
    },
    {
      "cell_type": "code",
      "source": [
        "import matplotlib.pyplot as plt\n",
        "\n",
        "def plot_graph(x : str):\n",
        "  val_x = 'val_' + x\n",
        "  plt.plot(results.history[x], label=x)\n",
        "  plt.plot(results.history[val_x], label=val_x)\n",
        "  plt.xlabel(\"Epoch\")\n",
        "  plt.ylabel(x.title())\n",
        "  plt.legend()\n",
        "  plt.show()\n",
        "\n",
        "plot_graph('loss')\n",
        "plot_graph('accuracy')"
      ],
      "metadata": {
        "colab": {
          "base_uri": "https://localhost:8080/",
          "height": 541
        },
        "id": "1o6XiiNIqLnS",
        "outputId": "537ba3de-266c-4ecc-c55c-e6503058d44a"
      },
      "execution_count": 11,
      "outputs": [
        {
          "output_type": "display_data",
          "data": {
            "text/plain": [
              "<Figure size 432x288 with 1 Axes>"
            ],
            "image/png": "[encoded data removed]"
          },
          "metadata": {
            "needs_background": "light"
          }
        },
        {
          "output_type": "display_data",
          "data": {
            "text/plain": [
              "<Figure size 432x288 with 1 Axes>"
            ],
            "image/png": "[encoded data removed]"
          },
          "metadata": {
            "needs_background": "light"
          }
        }
      ]
    }
  ]
}